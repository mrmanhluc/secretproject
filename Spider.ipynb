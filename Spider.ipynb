{
 "cells": [
  {
   "cell_type": "markdown",
   "metadata": {},
   "source": [
    "# Module: Crawling flight information from ticket websites\n",
    "\n",
    "This module is part of the project: **Flight price prediction model**. It crawls flight information from specific ticket websites in a pre-defined schedule. Moreover, the information will be preprocessed and stored into a data warehouse for reference purpose."
   ]
  },
  {
   "cell_type": "code",
   "execution_count": 1,
   "metadata": {},
   "outputs": [],
   "source": [
    "from selenium import webdriver\n",
    "import urllib\n",
    "import pandas as pd\n",
    "import logging\n",
    "import commonparam as food"
   ]
  },
  {
   "cell_type": "markdown",
   "metadata": {},
   "source": [
    "**Class: FlightSpider**\n",
    "\n",
    "This class is the blueprint for spiders.\n",
    "A spider has 2 public methods are `crawl()` and `save()`\n",
    "\n",
    "<figure>\n",
    "    <img src=\"http://4.bp.blogspot.com/-0gjqZ5kGerE/VgdLPDRGg6I/AAAAAAAAK50/aBW64pAtZbA/w1200-h630-p-k-no-nu/waiting_spider_web.jpg\">\n",
    "</figure>"
   ]
  },
  {
   "cell_type": "code",
   "execution_count": 2,
   "metadata": {},
   "outputs": [],
   "source": [
    "class FlightSpider:\n",
    "    def __init__(self):\n",
    "        self.current = food.CURRENT_TIME\n",
    "        self.journey_type = food.JOURNEY_TYPE\n",
    "        self.locale = food.LOCALE\n",
    "        self.origin = food.DEPARTURE\n",
    "        self.adt = food.PASSENGER\n",
    "        self.destination = food.DESTINATION\n",
    "        self.from_date = food.FROM_DATE\n",
    "        self.to_date = food.TO_DATE\n",
    "        self.flightInfo = {\n",
    "            'journeyType': [],\n",
    "            'departure': [],\n",
    "            'destination': [],\n",
    "            'search_date': [],\n",
    "            'departure_datetime': [],\n",
    "            'arrival_datetime': [],\n",
    "            'stops': [],\n",
    "            'passenger': [],\n",
    "            'prices': [],\n",
    "            'flight_number': [],\n",
    "        }\n",
    "    \n",
    "    def _feed(self, col_name, value):\n",
    "        self.flightInfo[col_name].append(value)\n",
    "\n",
    "    def _feedInfo(self):\n",
    "        self._feed('journeyType', food.JOURNEY_TYPE)\n",
    "        self._feed('departure', food.DEPARTURE)\n",
    "        self._feed('destination', food.DESTINATION)\n",
    "        self._feed('search_date', self.current)\n",
    "        self._feed('passenger', food.PASSENGER)\n",
    "\n",
    "    def _generateDate(self, from_date, to_date):\n",
    "        return [date.strftime('%m-%d-%Y') for date in pd.date_range(from_date, to_date)]\n",
    "\n",
    "    def _generateURL(self, search_date):\n",
    "        trip_info = {\n",
    "            'domain': 'https://fly.vietnamairlines.com/dx/VNDX/#/flight-selection?',\n",
    "            'variances': {\n",
    "                'journeyType': self.journey_type,\n",
    "                'locale': self.locale,\n",
    "                'origin': self.origin,\n",
    "                'destination': self.destination,\n",
    "                'ADT': self.adt,  # Adult numbers\n",
    "                'CHD': 0,\n",
    "                'INT': 0,\n",
    "                'date': search_date,\n",
    "            }\n",
    "        }\n",
    "        return trip_info['domain'] + urllib.parse.urlencode(trip_info['variances'])\n",
    "\n",
    "    def generateURLList(self):\n",
    "        date_range = self._generateDate(self.from_date, self.to_date)\n",
    "        urls = []\n",
    "        # General n urls. Each url has same parameters except date\n",
    "        for search_date in date_range:\n",
    "            urls.append(self._generateURL(search_date))\n",
    "        return urls\n",
    "    \n",
    "    def crawl(self):\n",
    "        urls = self.generateURLList()\n",
    "        \n",
    "        for url in urls:\n",
    "            driver = webdriver.Chrome(food.CHROME_DRIVER)\n",
    "            driver.implicitly_wait(food.WAITING_TIME)\n",
    "            driver.get(url)\n",
    "            try:\n",
    "                dashboard = driver.find_element_by_class_name('flights-table')\n",
    "                flights = dashboard.find_elements_by_class_name('dxp-flight')\n",
    "\n",
    "                for flight in flights:\n",
    "\n",
    "                    self._feedInfo()\n",
    "\n",
    "                    depart_arrive_time = flight.find_elements_by_class_name('dxp-time')\n",
    "                    stop_or_not = flight.find_element_by_xpath(\"//td[@class='column flight-stops']\").text\n",
    "                    flight_number = flight.find_element_by_class_name(\"flight-number\").text\n",
    "\n",
    "                    self._feed('departure_datetime', depart_arrive_time[0].get_attribute('datetime'))\n",
    "                    self._feed('arrival_datetime', depart_arrive_time[1].get_attribute('datetime'))\n",
    "                    self._feed('stops', stop_or_not)\n",
    "                    self._feed('flight_number', flight_number)\n",
    "\n",
    "                    prices = []\n",
    "                    for price in flight.find_elements_by_class_name(\"price-container\"):\n",
    "                        prices.append(price.text)\n",
    "                    self._feed('prices', prices)\n",
    "                    \n",
    "            except ValueError:\n",
    "                logging.basicConfig(format='%(asctime)s %(message)s')\n",
    "                logging.warning('Elements are not found.')\n",
    "            driver.quit()\n",
    "\n",
    "    def _generateFileName(self):\n",
    "        return str(self.current.year) + str(self.current.month) + \\\n",
    "            str(self.current.day) + str('_') + str(self.current.hour) + \\\n",
    "            str(self.current.minute) + str('.csv')\n",
    "\n",
    "    def save(self):\n",
    "        pd.DataFrame(self.flightInfo).to_csv(self._generateFileName(), index=False)"
   ]
  },
  {
   "cell_type": "markdown",
   "metadata": {},
   "source": [
    "### Now let's create a spider and watch it  build the web!!!"
   ]
  },
  {
   "cell_type": "code",
   "execution_count": 3,
   "metadata": {},
   "outputs": [],
   "source": [
    "spider = FlightSpider()\n",
    "spider.crawl()\n",
    "spider.save()"
   ]
  }
 ],
 "metadata": {
  "kernelspec": {
   "display_name": "Python 3",
   "language": "python",
   "name": "python3"
  },
  "language_info": {
   "codemirror_mode": {
    "name": "ipython",
    "version": 3
   },
   "file_extension": ".py",
   "mimetype": "text/x-python",
   "name": "python",
   "nbconvert_exporter": "python",
   "pygments_lexer": "ipython3",
   "version": "3.6.5"
  }
 },
 "nbformat": 4,
 "nbformat_minor": 2
}
