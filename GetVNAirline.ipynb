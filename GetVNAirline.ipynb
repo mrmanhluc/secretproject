{
 "cells": [
  {
   "cell_type": "code",
   "execution_count": 67,
   "metadata": {},
   "outputs": [],
   "source": [
    "from selenium import webdriver\n",
    "from selenium.webdriver.common.by import By\n",
    "from selenium.webdriver.support.ui import WebDriverWait\n",
    "from selenium.webdriver.support import expected_conditions as EC\n",
    "import urllib\n",
    "import pandas as pd\n",
    "import logging\n",
    "import datetime"
   ]
  },
  {
   "cell_type": "code",
   "execution_count": 92,
   "metadata": {},
   "outputs": [],
   "source": [
    "def request_url(departure_date):\n",
    "    url_vairance = {\n",
    "        'domain':'https://fly.vietnamairlines.com/dx/VNDX/#/flight-selection?',\n",
    "        'variances': {\n",
    "            'journeyType': 'one-way',\n",
    "            # Location to show languace\n",
    "            'locale': 'en-US',\n",
    "            # Arrive location\n",
    "            'origin': 'SGN',\n",
    "            # Departure location\n",
    "            'destination': 'NRT',\n",
    "            # Adult numbers\n",
    "            'ADT': 1,\n",
    "            # Not clearly\n",
    "            'CHD': 0,\n",
    "            # Not cleary\n",
    "            'INT': 0,\n",
    "            # Arrive date\n",
    "            'date': departure_date,\n",
    "        }\n",
    "    }\n",
    "    return url_vairance['domain'] + urllib.parse.urlencode(url_vairance['variances'])\n",
    "\n",
    "def general_date(from_date, to_date):\n",
    "    return [date.strftime('%m-%d-%Y') for date in pd.date_range(from_date, to_date)]\n",
    "\n",
    "def general_csv_name(now):\n",
    "    return str(now.year) + str(now.month) + str(now.day) + str('_') + str(now.hour) + str(now.minute) + str('.csv')"
   ]
  },
  {
   "cell_type": "markdown",
   "metadata": {},
   "source": [
    "## General paramecter"
   ]
  },
  {
   "cell_type": "code",
   "execution_count": 94,
   "metadata": {},
   "outputs": [],
   "source": [
    "date_range = general_date('12-01-2018', '12-30-2018')\n",
    "\n",
    "collected_data = {\n",
    "    'journeyType':[],\n",
    "    'departure':[],\n",
    "    'destination':[],\n",
    "    'search_date':[],\n",
    "    'departure_datetime':[],\n",
    "    'arrival_datetime':[],\n",
    "    'stops':[],\n",
    "    'passenger':[],\n",
    "    'prices':[],\n",
    "    'flight_number':[],\n",
    "}\n",
    "\n",
    "def insert(col_name, value):\n",
    "    collected_data[col_name].append(value)\n",
    "    \n",
    "for search_date in date_range:\n",
    "    journeyType = 'one-way'\n",
    "    departure = 'NRT'\n",
    "    destination = 'SGN'\n",
    "    passenger = 1\n",
    "\n",
    "    url = request_url(search_date)\n",
    "\n",
    "    driver = webdriver.Chrome(r'D:\\02_Python\\18_PullingData_HTML\\chormdriver\\chromedriver.exe')\n",
    "    driver.implicitly_wait(20)\n",
    "    driver.get(url)\n",
    "\n",
    "    try:\n",
    "        # Step 1. Get main price table\n",
    "        flights_main = driver.find_element_by_class_name('flights-table')\n",
    "\n",
    "        # Step 2. Get children\n",
    "        flights = flights_main.find_elements_by_class_name('dxp-flight')\n",
    "\n",
    "        for flight in flights:\n",
    "            insert('journeyType', journeyType)\n",
    "            insert('departure', departure)\n",
    "            insert('destination', destination)\n",
    "            insert('search_date', search_date)\n",
    "\n",
    "            depart_arrival_time = flight.find_elements_by_class_name('dxp-time')\n",
    "            insert('departure_datetime', depart_arrival_time[0].get_attribute('datetime'))\n",
    "            insert('arrival_datetime', depart_arrival_time[1].get_attribute('datetime'))\n",
    "\n",
    "            insert('stops', flight.find_element_by_xpath(\"//td[@class='column flight-stops']\").text)\n",
    "            insert('passenger', passenger)\n",
    "\n",
    "            prices = []\n",
    "            for price in flight.find_elements_by_class_name(\"price-container\"):\n",
    "                prices.append(price.text)    \n",
    "            insert('prices', prices)\n",
    "\n",
    "            flight_number = flight.find_element_by_class_name(\"flight-number\").text\n",
    "            insert('flight_number', flight_number)  \n",
    "    except ValueError:\n",
    "        logging.basicConfig(format='%(asctime)s %(message)s')\n",
    "        logging.warning('Elements is not founded.')\n",
    "    driver.quit()"
   ]
  },
  {
   "cell_type": "code",
   "execution_count": 95,
   "metadata": {},
   "outputs": [],
   "source": [
    "collected_pd = pd.DataFrame(collected_data)\n",
    "now = datetime.datetime.now()\n",
    "collected_pd['search_time'] = [now] * len(collected_pd['departure'])\n",
    "collected_pd.to_csv(general_csv_name(now))"
   ]
  },
  {
   "cell_type": "code",
   "execution_count": null,
   "metadata": {},
   "outputs": [],
   "source": []
  }
 ],
 "metadata": {
  "kernelspec": {
   "display_name": "Python 3",
   "language": "python",
   "name": "python3"
  },
  "language_info": {
   "codemirror_mode": {
    "name": "ipython",
    "version": 3
   },
   "file_extension": ".py",
   "mimetype": "text/x-python",
   "name": "python",
   "nbconvert_exporter": "python",
   "pygments_lexer": "ipython3",
   "version": "3.6.5"
  }
 },
 "nbformat": 4,
 "nbformat_minor": 2
}
